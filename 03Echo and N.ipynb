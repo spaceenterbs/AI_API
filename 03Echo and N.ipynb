{
 "cells": [
  {
   "cell_type": "code",
   "execution_count": 2,
   "metadata": {},
   "outputs": [],
   "source": [
    "import openai"
   ]
  },
  {
   "cell_type": "code",
   "execution_count": 3,
   "metadata": {},
   "outputs": [],
   "source": [
    "from dotenv import dotenv_values"
   ]
  },
  {
   "cell_type": "code",
   "execution_count": 4,
   "metadata": {},
   "outputs": [],
   "source": [
    "config = dotenv_values(\"api.env\")"
   ]
  },
  {
   "cell_type": "code",
   "execution_count": 5,
   "metadata": {},
   "outputs": [],
   "source": [
    "openai.api_key = config[\"OPENAI_API_KEY\"]"
   ]
  },
  {
   "cell_type": "code",
   "execution_count": 8,
   "metadata": {},
   "outputs": [
    {
     "data": {
      "text/plain": [
       "<OpenAIObject text_completion id=cmpl-7fqk0Pj14p9I7J3DDdPyS9CJGvHdd at 0x26666396ab0> JSON: {\n",
       "  \"id\": \"cmpl-7fqk0Pj14p9I7J3DDdPyS9CJGvHdd\",\n",
       "  \"object\": \"text_completion\",\n",
       "  \"created\": 1690208540,\n",
       "  \"model\": \"text-davinci-003\",\n",
       "  \"choices\": [\n",
       "    {\n",
       "      \"text\": \"\\n\\nQ: What did the cat say when he lost his toy?\\nA: \\\"Oh, fur-get it!\\\"\",\n",
       "      \"index\": 0,\n",
       "      \"logprobs\": null,\n",
       "      \"finish_reason\": \"stop\"\n",
       "    },\n",
       "    {\n",
       "      \"text\": \"\\n\\nQ: Why don't cats play poker in the jungle?\\nA: Too many cheetahs.\",\n",
       "      \"index\": 1,\n",
       "      \"logprobs\": null,\n",
       "      \"finish_reason\": \"stop\"\n",
       "    },\n",
       "    {\n",
       "      \"text\": \"\\n\\nQ: What did the cat say when he lost his hat?\\nA: \\\"Oh, fur real?\\\"\",\n",
       "      \"index\": 2,\n",
       "      \"logprobs\": null,\n",
       "      \"finish_reason\": \"stop\"\n",
       "    }\n",
       "  ],\n",
       "  \"usage\": {\n",
       "    \"prompt_tokens\": 6,\n",
       "    \"completion_tokens\": 73,\n",
       "    \"total_tokens\": 79\n",
       "  }\n",
       "}"
      ]
     },
     "execution_count": 8,
     "metadata": {},
     "output_type": "execute_result"
    }
   ],
   "source": [
    "openai.Completion.create(\n",
    "    model=\"text-davinci-003\",\n",
    "    prompt=\"tell me a joke about cats\", # tell me 3 jokes about death\n",
    "    max_tokens=100, # n까지 포함된 총 토큰을 의미하는 것이 아니다.\n",
    "    n=3\n",
    ")"
   ]
  },
  {
   "cell_type": "code",
   "execution_count": 10,
   "metadata": {},
   "outputs": [
    {
     "data": {
      "text/plain": [
       "<OpenAIObject text_completion id=cmpl-7fqo3HbB1C8RPXyKi7TT7XX3cCWys at 0x266663970b0> JSON: {\n",
       "  \"id\": \"cmpl-7fqo3HbB1C8RPXyKi7TT7XX3cCWys\",\n",
       "  \"object\": \"text_completion\",\n",
       "  \"created\": 1690208791,\n",
       "  \"model\": \"text-davinci-003\",\n",
       "  \"choices\": [\n",
       "    {\n",
       "      \"text\": \"Q: What is the longest building in the world?\\n\\nThe longest building in the world is the Changspa Retreat in Ladakh, India. It has 570 beds and is built on 2km of mountain terrain.\",\n",
       "      \"index\": 0,\n",
       "      \"logprobs\": null,\n",
       "      \"finish_reason\": \"stop\"\n",
       "    }\n",
       "  ],\n",
       "  \"usage\": {\n",
       "    \"prompt_tokens\": 11,\n",
       "    \"completion_tokens\": 35,\n",
       "    \"total_tokens\": 46\n",
       "  }\n",
       "}"
      ]
     },
     "execution_count": 10,
     "metadata": {},
     "output_type": "execute_result"
    }
   ],
   "source": [
    "openai.Completion.create(\n",
    "    model=\"text-davinci-003\",\n",
    "    prompt=\"Q: What is the longest building in the world?\", # tell me 3 jokes about death\n",
    "    max_tokens=100, # n까지 포함된 총 토큰을 의미하는 것이 아니다.\n",
    "    echo=True # echo는 prompt도 포함한다.\n",
    ")"
   ]
  },
  {
   "cell_type": "code",
   "execution_count": null,
   "metadata": {},
   "outputs": [],
   "source": [
    "openai.Completion.create(\n",
    "    model=\"text-davinci-003\",\n",
    "    prompt=\"In a single word, what is the color of a pickle?\",\n",
    "    max_tokens=100, # n까지 포함된 총 토큰을 의미하는 것이 아니다.\n",
    "    echo=True # echo는 prompt도 포함한다. # 그러나 에코는 토큰 부과가 되지 않는다. 포맷을 변경해줄 뿐이다.\n",
    ")"
   ]
  }
 ],
 "metadata": {
  "kernelspec": {
   "display_name": "Python 3",
   "language": "python",
   "name": "python3"
  },
  "language_info": {
   "codemirror_mode": {
    "name": "ipython",
    "version": 3
   },
   "file_extension": ".py",
   "mimetype": "text/x-python",
   "name": "python",
   "nbconvert_exporter": "python",
   "pygments_lexer": "ipython3",
   "version": "3.11.3"
  },
  "orig_nbformat": 4
 },
 "nbformat": 4,
 "nbformat_minor": 2
}
